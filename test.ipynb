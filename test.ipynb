{
 "cells": [
  {
   "cell_type": "code",
   "execution_count": 1,
   "metadata": {},
   "outputs": [],
   "source": [
    "import torch\n",
    "import cv2\n",
    "from src.tetris import Tetris"
   ]
  },
  {
   "cell_type": "code",
   "execution_count": 2,
   "metadata": {},
   "outputs": [],
   "source": [
    "class Options:\n",
    "    def __init__(self, width, height, block_size, fps, saved_path, output):\n",
    "        self.width = width\n",
    "        self.height = height\n",
    "        self.block_size = block_size\n",
    "        self.fps = fps\n",
    "        self.saved_path = saved_path\n",
    "        self.output = output"
   ]
  },
  {
   "cell_type": "code",
   "execution_count": 3,
   "metadata": {},
   "outputs": [],
   "source": [
    "def test(opt):\n",
    "    if torch.cuda.is_available():\n",
    "        torch.cuda.manual_seed(123)\n",
    "    else:\n",
    "        torch.manual_seed(123)\n",
    "    if torch.cuda.is_available():\n",
    "        model = torch.load(\"{}/tetris\".format(opt.saved_path))\n",
    "    else:\n",
    "        model = torch.load(\"{}/tetris\".format(opt.saved_path), map_location=lambda storage, loc: storage)\n",
    "    model.eval()\n",
    "    env = Tetris(width=opt.width, height=opt.height, block_size=opt.block_size)\n",
    "    env.reset()\n",
    "    if torch.cuda.is_available():\n",
    "        model.cuda()\n",
    "    out = cv2.VideoWriter(opt.output, cv2.VideoWriter_fourcc(*\"MJPG\"), opt.fps,\n",
    "                          (int(1.5*opt.width*opt.block_size), opt.height*opt.block_size))\n",
    "    while True:\n",
    "        next_steps = env.get_next_states()\n",
    "        next_actions, next_states = zip(*next_steps.items())\n",
    "        next_states = torch.stack(next_states)\n",
    "        if torch.cuda.is_available():\n",
    "            next_states = next_states.cuda()\n",
    "        predictions = model(next_states)[:, 0]\n",
    "        index = torch.argmax(predictions).item()\n",
    "        action = next_actions[index]\n",
    "        _, done = env.step(action, render=True, video=out)\n",
    "\n",
    "        if done:\n",
    "            out.release()\n",
    "            break"
   ]
  },
  {
   "cell_type": "code",
   "execution_count": 4,
   "metadata": {},
   "outputs": [
    {
     "ename": "",
     "evalue": "",
     "output_type": "error",
     "traceback": [
      "\u001b[1;31mThe Kernel crashed while executing code in the the current cell or a previous cell. Please review the code in the cell(s) to identify a possible cause of the failure. Click <a href='https://aka.ms/vscodeJupyterKernelCrash'>here</a> for more info. View Jupyter <a href='command:jupyter.viewOutput'>log</a> for further details."
     ]
    }
   ],
   "source": [
    "# Manually setting the parameters here\n",
    "opt = Options(width=10, height=20, block_size=30, fps=300, saved_path=\"trained_models\", output=\"output.mp4\")\n",
    "test(opt)"
   ]
  },
  {
   "cell_type": "code",
   "execution_count": null,
   "metadata": {},
   "outputs": [],
   "source": []
  }
 ],
 "metadata": {
  "kernelspec": {
   "display_name": "Python 3",
   "language": "python",
   "name": "python3"
  },
  "language_info": {
   "codemirror_mode": {
    "name": "ipython",
    "version": 3
   },
   "file_extension": ".py",
   "mimetype": "text/x-python",
   "name": "python",
   "nbconvert_exporter": "python",
   "pygments_lexer": "ipython3",
   "version": "3.9.2"
  },
  "orig_nbformat": 4
 },
 "nbformat": 4,
 "nbformat_minor": 2
}
